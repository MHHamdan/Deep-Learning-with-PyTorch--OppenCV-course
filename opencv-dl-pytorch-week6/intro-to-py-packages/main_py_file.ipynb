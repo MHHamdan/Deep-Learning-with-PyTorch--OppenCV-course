{
 "cells": [
  {
   "cell_type": "markdown",
   "metadata": {},
   "source": [
    "# <font style=\"color:blue\">Quick Introduction to Python Packages</font>\n",
    "\n",
    "Modularizing the code in a large application has the following advantages:\n",
    "\n",
    "- **Simplicity**: We can focus on a particular module without worrying about the entire application. \n",
    "\n",
    "\n",
    "- **Development**: Different people can focus on different modules of a large application.\n",
    "\n",
    "\n",
    "- **Reusability**: A different part of the application can use one module.\n",
    "\n",
    "\n",
    "We will take a quick look at how to modularize the code.\n",
    "\n",
    "We have already created a toy example of it. \n",
    "\n",
    "**Let's have a look at the file structure.**\n",
    "\n",
    "```\n",
    ".\n",
    "├── __init__.py\n",
    "├── main_py_file.ipynb\n",
    "├── main_py_file.py\n",
    "└── py_modules\n",
    "    ├── basic_maths.py\n",
    "    └── __init__.py\n",
    "\n",
    "1 directory, 5 files\n",
    "```\n",
    "\n",
    "**Here, `main_py_file.py(ipynb)` will use `py_modules` package.**\n",
    "\n",
    "**Let's have a look at each file content of the python package (`py_modules`).**\n",
    "\n",
    "### `py_modules/basic_maths.py`\n",
    "\n",
    "```\n",
    "class BasicMaths:\n",
    "    def __init__(self, a, b):\n",
    "        self.a = a\n",
    "        self.b = b\n",
    "        \n",
    "    def add(self):\n",
    "        return self.a + self.b\n",
    "    \n",
    "    def sub(self):\n",
    "        return self.a - self.b\n",
    "    \n",
    "    def multiply(self):\n",
    "        return self.a * self.b\n",
    "```\n",
    "\n",
    "We can see that it has BasicMaths class that has few arithmetics methods defined. \n",
    "\n",
    "\n",
    "### `py_modules/__init__.py`\n",
    "\n",
    "This is a empty file.\n",
    "\n",
    "**What is the use of the empty file?**\n",
    "\n",
    "The empty file makes sure that the python file inside the folder can be accessed through .pythonfilename (e.g. `.basic_maths`) as a python module from the folder (`py_modules`), and folders inside the folder can be accessed as python packages (in `py_modules` folder, we do not have any folder).\n",
    "\n",
    "\n",
    "\n",
    "**Let's also have a look at the python file `__init__.py` in the current folder (`./`).**\n",
    "\n",
    "### `__init__.py`\n",
    "\n",
    "This is also a empty file. \n",
    "\n",
    "**What is the use of this empty file?**\n",
    "\n",
    "As explained above, the folder `py_modules` will be treated as a python package, and we can access the class (`BasicMaths`) from module (`basic_maths`) from the current folder as follows:\n",
    "\n",
    "```\n",
    "from py_modules.basic_maths import BasicMaths\n",
    "```\n",
    "\n",
    "\n",
    "**Let's run the code using the module.**"
   ]
  },
  {
   "cell_type": "code",
   "execution_count": 1,
   "metadata": {},
   "outputs": [],
   "source": [
    "from py_modules.basic_maths import BasicMaths"
   ]
  },
  {
   "cell_type": "code",
   "execution_count": 2,
   "metadata": {},
   "outputs": [],
   "source": [
    "arithmetic_operations = BasicMaths(3.5, 5.9)"
   ]
  },
  {
   "cell_type": "code",
   "execution_count": 3,
   "metadata": {},
   "outputs": [
    {
     "data": {
      "text/plain": [
       "9.4"
      ]
     },
     "execution_count": 3,
     "metadata": {},
     "output_type": "execute_result"
    }
   ],
   "source": [
    "arithmetic_operations.add()"
   ]
  },
  {
   "cell_type": "code",
   "execution_count": 4,
   "metadata": {},
   "outputs": [
    {
     "data": {
      "text/plain": [
       "-2.4000000000000004"
      ]
     },
     "execution_count": 4,
     "metadata": {},
     "output_type": "execute_result"
    }
   ],
   "source": [
    "arithmetic_operations.sub()"
   ]
  },
  {
   "cell_type": "code",
   "execution_count": 5,
   "metadata": {},
   "outputs": [
    {
     "data": {
      "text/plain": [
       "20.650000000000002"
      ]
     },
     "execution_count": 5,
     "metadata": {},
     "output_type": "execute_result"
    }
   ],
   "source": [
    "arithmetic_operations.multiply()"
   ]
  },
  {
   "cell_type": "markdown",
   "metadata": {},
   "source": [
    "**Let's try to import BasicMaths class differently.**"
   ]
  },
  {
   "cell_type": "code",
   "execution_count": 6,
   "metadata": {},
   "outputs": [
    {
     "ename": "ImportError",
     "evalue": "cannot import name 'BasicMaths' from 'py_modules' (/home/prakash/pc/work/c3/6/intro_py_pkg/py_modules/__init__.py)",
     "output_type": "error",
     "traceback": [
      "\u001b[0;31m---------------------------------------------------------------------------\u001b[0m",
      "\u001b[0;31mImportError\u001b[0m                               Traceback (most recent call last)",
      "\u001b[0;32m<ipython-input-6-012586169241>\u001b[0m in \u001b[0;36m<module>\u001b[0;34m\u001b[0m\n\u001b[0;32m----> 1\u001b[0;31m \u001b[0;32mfrom\u001b[0m \u001b[0mpy_modules\u001b[0m \u001b[0;32mimport\u001b[0m \u001b[0mBasicMaths\u001b[0m\u001b[0;34m\u001b[0m\u001b[0;34m\u001b[0m\u001b[0m\n\u001b[0m",
      "\u001b[0;31mImportError\u001b[0m: cannot import name 'BasicMaths' from 'py_modules' (/home/prakash/pc/work/c3/6/intro_py_pkg/py_modules/__init__.py)"
     ]
    }
   ],
   "source": [
    "from py_modules import BasicMaths"
   ]
  },
  {
   "cell_type": "markdown",
   "metadata": {},
   "source": [
    "<font style=\"color:red\"> Ohh!! Got an import error.</font>\n",
    "\n",
    "We got the error because the package doesn't know about the class `BasicMaths`. So if we import the class in the file `py_modules/__init__.py`, we can import the class using the above. \n",
    "\n",
    "**So let's write the  following in the file `py_modules/__init__.py`:**\n",
    "\n",
    "```\n",
    "from .basic_maths import BasicMaths\n",
    "```"
   ]
  },
  {
   "cell_type": "code",
   "execution_count": 7,
   "metadata": {},
   "outputs": [],
   "source": [
    "!echo \"from .basic_maths import BasicMaths\" > \"py_modules/__init__.py\""
   ]
  },
  {
   "cell_type": "markdown",
   "metadata": {},
   "source": [
    "**Restart the kernel**"
   ]
  },
  {
   "cell_type": "code",
   "execution_count": null,
   "metadata": {},
   "outputs": [],
   "source": [
    "import os\n",
    "os._exit(00)"
   ]
  },
  {
   "cell_type": "code",
   "execution_count": 1,
   "metadata": {},
   "outputs": [],
   "source": [
    "from py_modules import BasicMaths"
   ]
  },
  {
   "cell_type": "code",
   "execution_count": null,
   "metadata": {},
   "outputs": [],
   "source": []
  }
 ],
 "metadata": {
  "jupytext": {
   "encoding": "# -*- coding: utf-8 -*-",
   "formats": "ipynb,py:percent"
  },
  "kernelspec": {
   "display_name": "Python 3",
   "language": "python",
   "name": "python3"
  },
  "language_info": {
   "codemirror_mode": {
    "name": "ipython",
    "version": 3
   },
   "file_extension": ".py",
   "mimetype": "text/x-python",
   "name": "python",
   "nbconvert_exporter": "python",
   "pygments_lexer": "ipython3",
   "version": "3.7.4"
  }
 },
 "nbformat": 4,
 "nbformat_minor": 2
}
