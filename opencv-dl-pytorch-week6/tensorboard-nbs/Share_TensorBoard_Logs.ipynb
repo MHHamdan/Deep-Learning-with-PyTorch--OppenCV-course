{
 "cells": [
  {
   "cell_type": "markdown",
   "metadata": {},
   "source": [
    "# <font style=\"color:blue\">Share Logs with TensorBoard.dev</font>\n",
    "\n",
    "We can share TensorBoard logs with others ( e.g. your manager at your workplace or your advisor at your university ). However, currently, it is supported for scalars, graphs, histograms and distributions. \n",
    "\n",
    "We hope this will be useful for many of you. Tensorflow may add other functionalities to it later.\n",
    "\n",
    "**Install the latest version of TensorBoard to use the uploader.**\n",
    "\n",
    "### <font style=\"color:green\">How to use it?</font>\n",
    "\n",
    "Use the following command on the command line to share the TensorBoard logs. It will ask you to authenticate your google account, then it will generate a link that can be shared with others.\n",
    "\n",
    "Note that `logs_fashion_mnist` is the folder that you want to share.\n",
    "```\n",
    "$ tensorboard dev upload --logdir logs_fashion_mnist/ --name \"Fashion MNIST Experiments\" --description \"Regularization vs No Regularization\"\n",
    "\n",
    "TensorFlow installation not found - running with reduced feature set.\n",
    "Data for the \"graphs\" plugin is now uploaded to TensorBoard.dev! Note that uploaded data is public. If you do not want to upload data for this plugin, use the \"--plugins\" command line argument.\n",
    "Data for the \"histograms\" plugin is now uploaded to TensorBoard.dev! Note that uploaded data is public. If you do not want to upload data for this plugin, use the \"--plugins\" command line argument.\n",
    "Upload started and will continue reading any new data as it's added\n",
    "to the logdir. To stop uploading, press Ctrl-C.\n",
    "\n",
    "View your TensorBoard live at: https://tensorboard.dev/experiment/JX7cYKQgSDqY1YOwL7d4oQ/\n",
    "\n",
    "[2020-07-30T09:31:46] Uploader started.\n",
    "[2020-07-30T09:32:27] Total uploaded: 1800 scalars, 1502 tensors (1.3 MB), 2 binary objects (40.3 kB)\n",
    "Listening for new data in logdir...\n",
    "```\n",
    "\n",
    "<font style=\"color:red\">Note: Anyone can see the shared logs with the generated link. Do not upload sensitive data.</font>\n",
    "\n",
    "\n",
    "\n",
    "## [Go to Sample Logs from our experiment](https://tensorboard.dev/experiment/JX7cYKQgSDqY1YOwL7d4oQ/)\n"
   ]
  },
  {
   "cell_type": "markdown",
   "metadata": {},
   "source": [
    "# <font style=\"color:blue\">References</font>\n",
    "\n",
    "- https://tensorboard.dev/"
   ]
  }
 ],
 "metadata": {
  "kernelspec": {
   "display_name": "Python 3",
   "language": "python",
   "name": "python3"
  },
  "language_info": {
   "codemirror_mode": {
    "name": "ipython",
    "version": 3
   },
   "file_extension": ".py",
   "mimetype": "text/x-python",
   "name": "python",
   "nbconvert_exporter": "python",
   "pygments_lexer": "ipython3",
   "version": "3.7.4"
  }
 },
 "nbformat": 4,
 "nbformat_minor": 2
}
