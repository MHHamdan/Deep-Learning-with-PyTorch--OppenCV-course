{
 "cells": [
  {
   "cell_type": "markdown",
   "metadata": {},
   "source": [
    "# <font style=\"color:blue\">TensorBoard Overview</font>\n",
    "<img src=\"https://www.tensorflow.org/tensorboard/images/tensorboard.gif\" width=600>\n",
    "\n",
    "### <font style=\"color:green\">What is TensorBoard?</font>\n",
    "\n",
    "TensorBoard is a visualization toolkit for machine learning experimentations. It has the following features:\n",
    "\n",
    "- Tracking and visualizing metrics such as loss and accuracy\n",
    "\n",
    "- Visualizing the model graph (ops and layers)\n",
    "\n",
    "- Viewing histograms of weights, biases, or other tensors as they change over time\n",
    "\n",
    "- Projecting embeddings to a lower-dimensional space - it gives a visual reprsentation of how the model classifies different instances of objects\n",
    "\n",
    "- Displaying images, text, and audio data\n",
    "\n",
    "- And much more, get more details [here](https://www.tensorflow.org/tensorboard/)\n",
    "\n",
    "### <font style=\"color:green\">Why do we need TensorBoard?</font>\n",
    "\n",
    "A good model demands a lot of experiments. For example, to get to the best model, we need to perform hyperparameter tuning, trying different models, trying different regularization techniques, etc. It can become cumbersome to track and remember what you did/achieved in older experiments.\n",
    "\n",
    "We know that getting insights into visual logs is much easier as compared to text logs. Since deep learning training takes longer time than usual, it is not very easy to monitor text logs. You should ideally keep the training running and work on something else. Once the training is over, you can check the logs to get insights about how the model trained.\n",
    "\n",
    "Till now we were using MatPlotLib to get visual insights. While using MatPlotLib does a good job in plotting the curves, there are many more features in Tensorboard (mentioned above) which can come in handy if your model is not behaving \"nicely\". \n",
    "\n",
    "Organizing training logs is not an easy task. But, **TensorBoard solves all these problems.** \n",
    "\n",
    "**In this section, we will see how to:** \n",
    "\n",
    "1. Set up Tensorboard.\n",
    "\n",
    "2. Write logs to Tensorboard.\n",
    "\n",
    "3. Get model insights using Tensorboard.\n",
    "\n",
    "4. Visualize data embeddings (2-d or 3-d) using TensorBoard. Data embedding is an effective way to dimensionality reduction (e.g., T-SNE, PCA, etc.).\n",
    "\n",
    "5. Get a histogram plot of model weights using TensorBoard ( this can be used to debug overfitting ).\n",
    "\n",
    "6. Add images to TensorBoard.\n",
    "\n",
    "7. Get Precision and Recall curves using TensorBoard.\n",
    "\n",
    "8. Display TensorBoard UI in Jupyter Notebook.\n",
    "\n",
    "9. Display TensorBoard UI using a browser - (a) TensorBoard running remotely, and (b) TensorBoard running locally.\n",
    "\n",
    "10. Share your TensorBoard dashboard (logs) using TensorBoard.dev.\n",
    "\n",
    "**We will start with the TensorBoard Dashboard display and end with sharing logs.**"
   ]
  }
 ],
 "metadata": {
  "kernelspec": {
   "display_name": "Python 3",
   "language": "python",
   "name": "python3"
  },
  "language_info": {
   "codemirror_mode": {
    "name": "ipython",
    "version": 3
   },
   "file_extension": ".py",
   "mimetype": "text/x-python",
   "name": "python",
   "nbconvert_exporter": "python",
   "pygments_lexer": "ipython3",
   "version": "3.6.0"
  }
 },
 "nbformat": 4,
 "nbformat_minor": 2
}
