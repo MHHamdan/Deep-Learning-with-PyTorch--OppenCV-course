{
 "cells": [
  {
   "cell_type": "markdown",
   "metadata": {},
   "source": [
    "# <font style=\"color:blue\">TensorBoard Dashboard</font>\n",
    "Let us get started with using Tensorboard. Since there are a lot of features provided by Tensorboard, we will first see how to display the Tensorboard dashboard and discuss the process of logging in the next section.\n",
    "\n",
    "In this section, we will see \n",
    "\n",
    "1. How to display the TensorBoard dashboard using a notebook and \n",
    "1. Run TensorBoard in a web browser\n",
    "\n",
    "Make sure you have TensorBoard installed. In your python or conda environment run the following command:\n",
    "\n",
    "```\n",
    "tensorboard --version\n",
    "```\n",
    "\n",
    "**If not installed, here are links to install TensorBoard in [python-environment](https://pypi.org/project/tensorboard/) and [conda-environment](https://anaconda.org/conda-forge/tensorboard).**"
   ]
  },
  {
   "cell_type": "markdown",
   "metadata": {},
   "source": [
    "# <font style=\"color:blue\">Tensorboard Logs</font>\n",
    "To display TensorBoard Dashboard, we need logs compatible with TensorBoard. To make it a bit easier to follow, we are sharing a folder which contains the logs of an experiment we had done. We will go over the contents of the log folder and see how to use this for displaying them on Tensorboard. \n",
    "\n",
    "Let us first download and extract the logs folder."
   ]
  },
  {
   "cell_type": "code",
   "execution_count": 2,
   "metadata": {
    "collapsed": false
   },
   "outputs": [
    {
     "name": "stdout",
     "output_type": "stream",
     "text": [
      "--2020-02-27 21:45:23--  https://www.dropbox.com/sh/miycgl63t70t8gx/AAA8xGsR4WjHRuKVdFKR4c1la?dl=1\n",
      "Resolving www.dropbox.com (www.dropbox.com)... 162.125.81.1, 2620:100:6031:1::a27d:5101\n",
      "Connecting to www.dropbox.com (www.dropbox.com)|162.125.81.1|:443... connected.\n",
      "HTTP request sent, awaiting response... 301 Moved Permanently\n",
      "Location: /sh/dl/miycgl63t70t8gx/AAA8xGsR4WjHRuKVdFKR4c1la [following]\n",
      "--2020-02-27 21:45:23--  https://www.dropbox.com/sh/dl/miycgl63t70t8gx/AAA8xGsR4WjHRuKVdFKR4c1la\n",
      "Reusing existing connection to www.dropbox.com:443.\n",
      "HTTP request sent, awaiting response... 302 Found\n",
      "Location: https://uc9880d9fa13d693016921d9b6c4.dl.dropboxusercontent.com/zip_download_get/AWQGTDSRM3cC6Weca8e9y3GF-cESqCYvnpGamLhwHLJVhu5eHkDsp9aruLYlVyAIQzXVnMihKlP-8tQJrrfz-yXh3kvf6xQImRuIF38mu2p0pA?dl=1 [following]\n",
      "--2020-02-27 21:45:24--  https://uc9880d9fa13d693016921d9b6c4.dl.dropboxusercontent.com/zip_download_get/AWQGTDSRM3cC6Weca8e9y3GF-cESqCYvnpGamLhwHLJVhu5eHkDsp9aruLYlVyAIQzXVnMihKlP-8tQJrrfz-yXh3kvf6xQImRuIF38mu2p0pA?dl=1\n",
      "Resolving uc9880d9fa13d693016921d9b6c4.dl.dropboxusercontent.com (uc9880d9fa13d693016921d9b6c4.dl.dropboxusercontent.com)... 162.125.81.6, 2620:100:6032:6::a27d:5206\n",
      "Connecting to uc9880d9fa13d693016921d9b6c4.dl.dropboxusercontent.com (uc9880d9fa13d693016921d9b6c4.dl.dropboxusercontent.com)|162.125.81.6|:443... connected.\n",
      "HTTP request sent, awaiting response... 200 OK\n",
      "Length: 128868613 (123M) [application/zip]\n",
      "Saving to: ‘sample_logs.zip’\n",
      "\n",
      "sample_logs.zip     100%[===================>] 122.90M  3.94MB/s    in 29s     \n",
      "\n",
      "2020-02-27 21:45:54 (4.20 MB/s) - ‘sample_logs.zip’ saved [128868613/128868613]\n",
      "\n",
      "Archive:  sample_logs.zip\n",
      "warning:  stripped absolute path spec from /\n",
      "mapname:  conversion of  failed\n",
      "replace ./logs_fashion_mnist/regularization/projector_config.pbtxt? [y]es, [n]o, [A]ll, [N]one, [r]ename: ^C\n"
     ]
    }
   ],
   "source": [
    "!wget \"https://www.dropbox.com/sh/miycgl63t70t8gx/AAA8xGsR4WjHRuKVdFKR4c1la?dl=1\" -O sample_logs.zip\n",
    "\n",
    "!unzip -q sample_logs.zip"
   ]
  },
  {
   "cell_type": "markdown",
   "metadata": {},
   "source": [
    "## <font style=\"color:green\">What is there in the Logs? </font>\n",
    "Let us examine the folder structure and the files/folders that are present in the logs directory. We will assume that the logs directory is `logs_fashion_mnist`. We don't need to go into too much detail with respect to the logs directory. But we will briefly understand the folder structure of the logs. "
   ]
  },
  {
   "cell_type": "code",
   "execution_count": 11,
   "metadata": {
    "collapsed": false
   },
   "outputs": [
    {
     "name": "stdout",
     "output_type": "stream",
     "text": [
      "no_regularization  regularization\r\n"
     ]
    }
   ],
   "source": [
    "!ls logs_fashion_mnist"
   ]
  },
  {
   "cell_type": "markdown",
   "metadata": {},
   "source": [
    "**We had done two experiments for `no_regularization` & `regularization`. So, the logs folder has 2 folders. Let us see the logs of one experiment.**"
   ]
  },
  {
   "cell_type": "code",
   "execution_count": 14,
   "metadata": {
    "collapsed": false
   },
   "outputs": [
    {
     "name": "stdout",
     "output_type": "stream",
     "text": [
      "\u001b[01;34mlogs_fashion_mnist/regularization\u001b[00m\r\n",
      "├── \u001b[01;34m00000\u001b[00m\r\n",
      "│   └── \u001b[01;34mdefault\u001b[00m\r\n",
      "│       ├── \u001b[01;32mmetadata.tsv\u001b[00m\r\n",
      "│       ├── \u001b[01;32msprite.png\u001b[00m\r\n",
      "│       └── \u001b[01;32mtensors.tsv\u001b[00m\r\n",
      "├── \u001b[01;34mAccuracy_train-val_train\u001b[00m\r\n",
      "│   └── \u001b[01;32mevents.out.tfevents.1582146167.pc.18717.3\u001b[00m\r\n",
      "├── \u001b[01;34mAccuracy_train-val_validation\u001b[00m\r\n",
      "│   └── \u001b[01;32mevents.out.tfevents.1582146167.pc.18717.4\u001b[00m\r\n",
      "├── \u001b[01;32mevents.out.tfevents.1582146148.pc.18717.0\u001b[00m\r\n",
      "├── \u001b[01;34mLoss_train-val_train\u001b[00m\r\n",
      "│   └── \u001b[01;32mevents.out.tfevents.1582146167.pc.18717.1\u001b[00m\r\n",
      "├── \u001b[01;34mLoss_train-val_validation\u001b[00m\r\n",
      "│   └── \u001b[01;32mevents.out.tfevents.1582146167.pc.18717.2\u001b[00m\r\n",
      "└── \u001b[01;32mprojector_config.pbtxt\u001b[00m\r\n",
      "\r\n",
      "6 directories, 9 files\r\n"
     ]
    }
   ],
   "source": [
    "!tree logs_fashion_mnist/regularization"
   ]
  },
  {
   "cell_type": "markdown",
   "metadata": {},
   "source": [
    "The above folder is created when you save any metrics to the tensorboard summarywriter. \n",
    "\n",
    "The above shows the structure of the tensorboard logs. The logs are saved as tfevents data files ( e.g. events.out.tfevents.1582146148.pc.18717.0 ) and are also called summary data."
   ]
  },
  {
   "cell_type": "markdown",
   "metadata": {},
   "source": [
    "## <font style=\"color:blue\">1. TensorBoard Dashboard in the Notebook</font>\n",
    "\n",
    "Run the following command in a notebook cell:\n",
    "\n",
    "```\n",
    "# This will launch Tensorboard\n",
    "%load_ext tensorboard\n",
    "\n",
    "# logs folder path\n",
    "%tensorboard --logdir=logs_fashion_mnist    \n",
    "```\n",
    "\n",
    "**You will get an output which will be similar to the following:**\n",
    "\n",
    "<img src=\"https://www.learnopencv.com/wp-content/uploads/2020/02/c3_w5_tensorboard_notepad.png\" width=900>\n",
    "\n"
   ]
  },
  {
   "cell_type": "markdown",
   "metadata": {},
   "source": [
    "**If you want to reload the Dashboard, use the command `%reload_ext tensorboard`**\n",
    "```    \n",
    "# To reload tensorBoard\n",
    "%reload_ext tensorboard\n",
    "\n",
    "# logs folder path\n",
    "%tensorboard --logdir=logs_fashion_mnist  \n",
    "```"
   ]
  },
  {
   "cell_type": "markdown",
   "metadata": {},
   "source": [
    "## <font style=\"color:blue\">2. TensorBoard Dashboard on Web Browser</font>\n",
    "\n",
    "We can Display Tensorboard on Web Browser using any of the following ways:\n",
    "\n",
    "1. Running it on the local system.\n",
    "\n",
    "2. Running it on a remote system.\n",
    "\n",
    "**Let's see how it is done**"
   ]
  },
  {
   "cell_type": "markdown",
   "metadata": {},
   "source": [
    "### <font style=\"color:green\">2.1. Running Tensorboard on the Local System</font>\n",
    "\n",
    "**Run the following command on the local system:**\n",
    "\n",
    "```\n",
    "tensorboard --logdir logs_fashion_mnist --port default\n",
    "```\n",
    "<font >You will get similiar output as shown below</font>\n",
    "\n",
    "\n",
    "```\n",
    "TensorFlow installation not found - running with reduced feature set.\n",
    "Serving TensorBoard on localhost; to expose to the network, use a proxy or pass --bind_all\n",
    "TensorBoard 2.0.1 at http://localhost:6006/ (Press CTRL+C to quit)\n",
    "```\n",
    "\n",
    "**Copy the link from the output (in this case it is `http://localhost:6006/`) and paste in your browser**\n",
    " \n",
    "\n",
    "**It will look similar to the following:**\n",
    "\n",
    "<img src=\"https://www.learnopencv.com/wp-content/uploads/2020/02/c3-w-4-tensorboard_local.png\" width=900>"
   ]
  },
  {
   "cell_type": "markdown",
   "metadata": {},
   "source": [
    "### <font style=\"color:green\">2.2. Running Tensorboard on a remote System</font>\n",
    "\n",
    "**Run the following command on the remote system:**\n",
    "\n",
    "\n",
    "```\n",
    "tensorboard --logdir logs_fashion_mnist --port default\n",
    "```\n",
    "\n",
    "**The Output will be similar to as shown below**\n",
    "\n",
    "```\n",
    "TensorFlow installation not found - running with reduced feature set.\n",
    "TensorBoard 1.15.0 at http://remote-ip-address:6006/ (Press CTRL+C to quit)\n",
    "```\n",
    "\n",
    "**Now the question is, can you open the above link in the browser?**\n",
    "\n",
    "No, because it is not in public domain. \n",
    "\n",
    "But you know the public IP and password of the remote machine (or your local machine ssh key might be already added to the remote machine). So by using shh port forwarding mechanism, a remote machine port can be tunneled to the local machine port. \n",
    "\n",
    "**We can use the following command to forward the remote port to the local machine port:**\n",
    "\n",
    "```\n",
    "ssh -N -f -L localhost:7006:remote-ip-address:6006 username@public_ip\n",
    "```\n",
    "\n",
    "The above command will forward `remote-ip-address:6006` to `localhost:7006`.\n",
    "\n",
    "**Open the link `localhost:7006` in a browser.**\n",
    "\n",
    "**It should look similar to the following:**\n",
    "\n",
    "<img src=\"https://www.learnopencv.com/wp-content/uploads/2020/02/c3-w3-tensorboard_remote.png\" width=900>"
   ]
  }
 ],
 "metadata": {
  "kernelspec": {
   "display_name": "Python 3",
   "language": "python",
   "name": "python3"
  },
  "language_info": {
   "codemirror_mode": {
    "name": "ipython",
    "version": 3
   },
   "file_extension": ".py",
   "mimetype": "text/x-python",
   "name": "python",
   "nbconvert_exporter": "python",
   "pygments_lexer": "ipython3",
   "version": "3.6.0"
  }
 },
 "nbformat": 4,
 "nbformat_minor": 2
}
