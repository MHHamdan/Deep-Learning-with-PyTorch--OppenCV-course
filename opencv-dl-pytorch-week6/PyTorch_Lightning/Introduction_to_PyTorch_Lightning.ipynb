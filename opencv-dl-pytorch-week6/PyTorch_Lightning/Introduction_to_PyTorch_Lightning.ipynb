{
 "cells": [
  {
   "cell_type": "markdown",
   "metadata": {},
   "source": [
    "# <font style=\"color:blue\">Introduction to PyTorch Lightning</font>\n",
    "\n",
    "---\n",
    "\n",
    "<img src='https://www.learnopencv.com/wp-content/uploads/2020/05/PTL.png'>\n",
    "\n",
    "<center><h4>Source: https://www.learnopencv.com/getting-started-with-pytorch-lightning/</h4></center>\n",
    "\n",
    "---\n",
    "\n",
    "\n",
    "\n",
    "**What is PyTorch Lightning, and why do we need it?**\n",
    "\n",
    "PyTorch Lightning is a lightweight PyTorch wrapper that provides simple templates for organizing PyTorch code. Once we organize our code with the lightning module, it automates most of the training.\n",
    "\n",
    "\n",
    "**PyTorch Lightning automates the following:**\n",
    "\n",
    "\n",
    "- **Training loop:** Using PyTorch, we iterate through training data in batches, performing some fixed operations. PyTorch Lighting scores over PyTorch in ridding us of the code for data iteration. Just write the code for the fixed operation and be done with it. \n",
    "\n",
    "\n",
    "- **Validation and test loop:** Not just the training loop, you  are also rid of the validation and test loop  in data iteration. Simply writing fix operations will do here as well.\n",
    "\n",
    "\n",
    "- **GPU/CPU training:** In PyTorch, it is mandatory to transfer data and models to the GPU, if you want to train on it. Else you get an error or have to train on the CPU. But there’s no need to you transfer  data from one device to another  when you work with PyTorch Lightning. Just choose  whether you want to use GPU or not, and PyTorch Lightning will take care of all transfer operations . Even when  using multiple GPUs or nodes (machines), you need not worry about code changes. Lightning manages all of it.\n",
    "\n",
    "\n",
    "- **Training with different precision:** A model can be trained with different precision, for example, `8-bit`, `16-bit`, `32-bit` etc. Lower the model precision, higher shall be the inference speed. In PyTorch Lighting, no  need  to write code for different precisions. Just enable corresponding flags and train with the precession you want.\n",
    "\n",
    "\n",
    "- **Evaluation metrics:** It supports different evaluation metrics, such as accuracy, precision, recall, f1-score, etc.\n",
    "\n",
    "\n",
    "- **Logging:** Makes Tensorboard (also supports other logging, e.g., Comet, Neptune etc.) logging  very handy.\n",
    "\n",
    "\n",
    "- **Progress bar:** You  get a progress bar, without writing any code for it.\n",
    "\n",
    "---\n",
    "\n",
    "**So many benefits! That should make for cleaner code, which is be  less prone to error.  But to avail these benefits, are we compromising the power of PyTorch?**\n",
    "\n",
    "\n",
    "No. PyTorch Lightning solves repetitive steps as well as the engineering part of the problem, without compromising on  model building, training steps etc.\n",
    "\n",
    "---\n",
    "\n",
    "\n",
    "**We will cover the following in this section:**\n",
    "\n",
    "- **PyTorch to PyTorch Lightning:** We will take a PyTorch notebook and convert it to  PyTorch Lightning.\n",
    "\n",
    "\n",
    "- **Inference on production:** With so many  libraries out there for Machine Learning and Deep Learning, developers and teams use the library of their choice. This creates the need to share models across teams in some common format. ONNX is one such format. We will learn to transform `.ckpt` into `.onnx`. And also to do inference on the `.onnx`-formatted model \n",
    "\n",
    "\n",
    "- **Transfer learning:** We will see how to use transfer learning in PyTorch Lightning."
   ]
  },
  {
   "cell_type": "markdown",
   "metadata": {},
   "source": [
    "# <font style=\"color:blue\">Installation</font>\n",
    "\n",
    "Installation of PyTorch Lighting is very simple. Use pip or conda.\n",
    "\n",
    "\n",
    "## <font style=\"color:green\">pip installation</font>\n",
    "\n",
    "```\n",
    "pip install pytorch-lightning\n",
    "```\n",
    "\n",
    "\n",
    "## <font style=\"color:green\">conda installation</font>\n",
    "\n",
    "```\n",
    "conda install pytorch-lightning -c conda-forge\n",
    "```"
   ]
  },
  {
   "cell_type": "markdown",
   "metadata": {},
   "source": [
    "# <font style=\"color:blue\">Reference</font>\n",
    "\n",
    "1. https://towardsdatascience.com/from-pytorch-to-pytorch-lightning-a-gentle-introduction-b371b7caaf09\n",
    "1. https://www.learnopencv.com/getting-started-with-pytorch-lightning/\n",
    "1. https://github.com/PyTorchLightning/pytorch-lightning\n",
    "1. https://pytorch-lightning.readthedocs.io/en/latest/"
   ]
  }
 ],
 "metadata": {
  "kernelspec": {
   "display_name": "Python 3",
   "language": "python",
   "name": "python3"
  },
  "language_info": {
   "codemirror_mode": {
    "name": "ipython",
    "version": 3
   },
   "file_extension": ".py",
   "mimetype": "text/x-python",
   "name": "python",
   "nbconvert_exporter": "python",
   "pygments_lexer": "ipython3",
   "version": "3.8.10"
  },
  "latex_envs": {
   "LaTeX_envs_menu_present": true,
   "autoclose": false,
   "autocomplete": true,
   "bibliofile": "biblio.bib",
   "cite_by": "apalike",
   "current_citInitial": 1,
   "eqLabelWithNumbers": true,
   "eqNumInitial": 1,
   "hotkeys": {
    "equation": "Ctrl-E",
    "itemize": "Ctrl-I"
   },
   "labels_anchors": false,
   "latex_user_defs": false,
   "report_style_numbering": false,
   "user_envs_cfg": false
  },
  "toc": {
   "base_numbering": 1,
   "nav_menu": {},
   "number_sections": false,
   "sideBar": true,
   "skip_h1_title": false,
   "title_cell": "Table of Contents",
   "title_sidebar": "Contents",
   "toc_cell": false,
   "toc_position": {},
   "toc_section_display": true,
   "toc_window_display": false
  },
  "varInspector": {
   "cols": {
    "lenName": 16,
    "lenType": 16,
    "lenVar": 40
   },
   "kernels_config": {
    "python": {
     "delete_cmd_postfix": "",
     "delete_cmd_prefix": "del ",
     "library": "var_list.py",
     "varRefreshCmd": "print(var_dic_list())"
    },
    "r": {
     "delete_cmd_postfix": ") ",
     "delete_cmd_prefix": "rm(",
     "library": "var_list.r",
     "varRefreshCmd": "cat(var_dic_list()) "
    }
   },
   "types_to_exclude": [
    "module",
    "function",
    "builtin_function_or_method",
    "instance",
    "_Feature"
   ],
   "window_display": false
  }
 },
 "nbformat": 4,
 "nbformat_minor": 2
}
