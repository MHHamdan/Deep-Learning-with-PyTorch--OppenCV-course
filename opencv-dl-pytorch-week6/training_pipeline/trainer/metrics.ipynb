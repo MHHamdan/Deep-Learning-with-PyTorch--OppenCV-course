{
 "cells": [
  {
   "cell_type": "markdown",
   "metadata": {},
   "source": [
    "# <font style=\"color:blue\">Evalution Metrics Class</font>"
   ]
  },
  {
   "cell_type": "code",
   "execution_count": null,
   "metadata": {},
   "outputs": [],
   "source": [
    "import torch"
   ]
  },
  {
   "cell_type": "code",
   "execution_count": null,
   "metadata": {},
   "outputs": [],
   "source": [
    "from .utils import AverageMeter\n",
    "from .base_metric import BaseMetric"
   ]
  },
  {
   "cell_type": "code",
   "execution_count": null,
   "metadata": {},
   "outputs": [],
   "source": [
    "class AccuracyEstimator(BaseMetric):\n",
    "    def __init__(self, topk=(1, )):\n",
    "        self.topk = topk\n",
    "        self.metrics = [AverageMeter() for i in range(len(topk) + 1)]\n",
    "\n",
    "    def reset(self):\n",
    "        for i in range(len(self.metrics)):\n",
    "            self.metrics[i].reset()\n",
    "\n",
    "    def update_value(self, pred, target):\n",
    "        \"\"\"Computes the precision@k for the specified values of k\"\"\"\n",
    "        with torch.no_grad():\n",
    "            maxk = max(self.topk)\n",
    "            batch_size = target.size(0)\n",
    "\n",
    "            _, pred = pred.topk(maxk, 1, True, True)\n",
    "            pred = pred.t()\n",
    "            correct = pred.eq(target.view(1, -1).expand_as(pred))\n",
    "\n",
    "            for i, k in enumerate(self.topk):\n",
    "                correct_k = correct[:k].view(-1).float().sum(0, keepdim=True)\n",
    "                self.metrics[i].update(correct_k.mul_(100.0 / batch_size).item())\n",
    "\n",
    "    def get_metric_value(self):\n",
    "        metrics = {}\n",
    "        for i, k in enumerate(self.topk):\n",
    "            metrics[\"top{}\".format(k)] = self.metrics[i].avg\n",
    "        return metrics"
   ]
  }
 ],
 "metadata": {
  "jupytext": {
   "cell_metadata_filter": "-all",
   "formats": "py:light,ipynb",
   "notebook_metadata_filter": "-all",
   "text_representation": {
    "extension": ".py",
    "format_name": "light"
   }
  },
  "kernelspec": {
   "display_name": "Python 3",
   "language": "python",
   "name": "python3"
  },
  "language_info": {
   "codemirror_mode": {
    "name": "ipython",
    "version": 3
   },
   "file_extension": ".py",
   "mimetype": "text/x-python",
   "name": "python",
   "nbconvert_exporter": "python",
   "pygments_lexer": "ipython3",
   "version": "3.7.4"
  }
 },
 "nbformat": 4,
 "nbformat_minor": 2
}
