{
 "cells": [
  {
   "cell_type": "markdown",
   "metadata": {},
   "source": [
    "# <font style=\"color:blue\">TensorBoard Visualizer Class</font>"
   ]
  },
  {
   "cell_type": "code",
   "execution_count": null,
   "metadata": {},
   "outputs": [],
   "source": [
    "from torch.utils.tensorboard import SummaryWriter"
   ]
  },
  {
   "cell_type": "code",
   "execution_count": null,
   "metadata": {},
   "outputs": [],
   "source": [
    "from .visualizer import Visualizer"
   ]
  },
  {
   "cell_type": "code",
   "execution_count": null,
   "metadata": {},
   "outputs": [],
   "source": [
    "class TensorBoardVisualizer(Visualizer):\n",
    "    def __init__(self):\n",
    "        self._writer = SummaryWriter()\n",
    "\n",
    "    def update_charts(self, train_metric, train_loss, test_metric, test_loss, learning_rate, epoch):\n",
    "        if train_metric is not None:\n",
    "            for metric_key, metric_value in train_metric.items():\n",
    "                self._writer.add_scalar(\"data/train_metric:{}\".format(metric_key), metric_value, epoch)\n",
    "\n",
    "        for test_metric_key, test_metric_value in test_metric.items():\n",
    "            self._writer.add_scalar(\"data/test_metric:{}\".format(test_metric_key), test_metric_value, epoch)\n",
    "\n",
    "        if train_loss is not None:\n",
    "            self._writer.add_scalar(\"data/train_loss\", train_loss, epoch)\n",
    "        if test_loss is not None:\n",
    "            self._writer.add_scalar(\"data/test_loss\", test_loss, epoch)\n",
    "\n",
    "        self._writer.add_scalar(\"data/learning_rate\", learning_rate, epoch)\n",
    "\n",
    "    def close_tensorboard(self):\n",
    "        self._writer.close()"
   ]
  }
 ],
 "metadata": {
  "jupytext": {
   "cell_metadata_filter": "-all",
   "formats": "py:light,ipynb",
   "notebook_metadata_filter": "-all",
   "text_representation": {
    "extension": ".py",
    "format_name": "light"
   }
  },
  "kernelspec": {
   "display_name": "Python 3",
   "language": "python",
   "name": "python3"
  },
  "language_info": {
   "codemirror_mode": {
    "name": "ipython",
    "version": 3
   },
   "file_extension": ".py",
   "mimetype": "text/x-python",
   "name": "python",
   "nbconvert_exporter": "python",
   "pygments_lexer": "ipython3",
   "version": "3.7.4"
  }
 },
 "nbformat": 4,
 "nbformat_minor": 2
}
