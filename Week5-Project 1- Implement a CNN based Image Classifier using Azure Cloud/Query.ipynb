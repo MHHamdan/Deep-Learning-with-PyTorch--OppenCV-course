{
 "cells": [
  {
   "cell_type": "code",
   "execution_count": null,
   "metadata": {
    "collapsed": true,
    "id": "OD0X6pcbfxDP"
   },
   "outputs": [],
   "source": []
  },
  {
   "cell_type": "markdown",
   "metadata": {
    "id": "ZESN-b48f0fP"
   },
   "source": [
    "As, you can I see I tried several expriments to get accuracy >85.  "
   ]
  },
  {
   "cell_type": "markdown",
   "metadata": {
    "id": "O5CylyiagHKm"
   },
   "source": [
    "My question: Is Can you help detemine the size of Linear (Flatten) layers in my ResNet 9 model. Since it works for me when I resize the images to 32 only. Therefore, I would like you comments on how to expermints with differnt size such as 224"
   ]
  },
  {
   "cell_type": "markdown",
   "metadata": {
    "id": "asG0r-D0gpY3"
   },
   "source": [
    "By the way when I tried non ResNet archeticure >> The issue Cuda out of memory always presists."
   ]
  },
  {
   "cell_type": "markdown",
   "metadata": {
    "id": "t_0Jy9BEg6eT"
   },
   "source": [
    "So, Please Help and Finalize my grading based on the submitted files.\n"
   ]
  },
  {
   "cell_type": "code",
   "execution_count": null,
   "metadata": {
    "collapsed": true,
    "id": "XVNM6TMvhT7O"
   },
   "outputs": [],
   "source": []
  }
 ],
 "metadata": {
  "colab": {
   "name": "Query.ipynb",
   "provenance": []
  },
  "kernelspec": {
   "display_name": "Python 3.7",
   "language": "python",
   "name": "python3"
  },
  "language_info": {
   "codemirror_mode": {
    "name": "ipython",
    "version": 3
   },
   "file_extension": ".py",
   "mimetype": "text/x-python",
   "name": "python",
   "nbconvert_exporter": "python",
   "pygments_lexer": "ipython3",
   "version": "3.7.5"
  }
 },
 "nbformat": 4,
 "nbformat_minor": 1
}
