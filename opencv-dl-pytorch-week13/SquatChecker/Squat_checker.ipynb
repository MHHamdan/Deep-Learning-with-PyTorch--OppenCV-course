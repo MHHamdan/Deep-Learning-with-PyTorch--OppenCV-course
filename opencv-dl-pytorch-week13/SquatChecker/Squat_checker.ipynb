{
 "cells": [
  {
   "cell_type": "markdown",
   "metadata": {
    "colab_type": "text",
    "id": "D2SGjzxmJQko"
   },
   "source": [
    "# <font style=\"color:blue\"> Squat Checker</font>\n",
    "\n",
    "In this notebook, lets see how squat checker application can be built using pose estimation model.\n",
    "\n",
    "Squat checker will perform following 2 checks:\n",
    "- right squat pose by measuring the angles of knees, hips and ankles\n",
    "- count the number of squats\n",
    "\n",
    "<img src='https://www.learnopencv.com/wp-content/uploads/2020/06/c3-w13-squat-1.png'>\n",
    "\n",
    "We will use detectron2 to load model and run inference. Here, we show the example of single person videos, the same implementation can be extended for squat check on multiple people in the same image by adding display to more than one person."
   ]
  },
  {
   "cell_type": "markdown",
   "metadata": {
    "colab_type": "text",
    "id": "pjoMJJNfO82x"
   },
   "source": [
    "## <font style=\"color:green\"> Import Libraries</font>"
   ]
  },
  {
   "cell_type": "code",
   "execution_count": 1,
   "metadata": {
    "colab": {},
    "colab_type": "code",
    "id": "mdElAqUQoDtM"
   },
   "outputs": [],
   "source": [
    "# You may need to restart your runtime prior to this, to let your installation take effect\n",
    "# Some basic setup:\n",
    "# Setup detectron2 logger\n",
    "import detectron2\n",
    "from detectron2.utils.logger import setup_logger\n",
    "setup_logger()\n",
    "\n",
    "# import some common libraries\n",
    "import numpy as np\n",
    "import cv2\n",
    "import random\n",
    "import matplotlib.pyplot as plt\n",
    "import os\n",
    "import time\n",
    "\n",
    "# import some common detectron2 utilities\n",
    "from detectron2 import model_zoo\n",
    "from detectron2.engine import DefaultPredictor\n",
    "from detectron2.config import get_cfg\n",
    "from detectron2.utils.visualizer import Visualizer\n",
    "from detectron2.data import MetadataCatalog"
   ]
  },
  {
   "cell_type": "markdown",
   "metadata": {
    "colab_type": "text",
    "id": "wZC-uW7XPo-h"
   },
   "source": [
    "## <font style=\"color:green\"> Setup Config</font>\n",
    "\n",
    "Here, we will import detectron2's Keypoint RCNN model for keypoints detection.\n",
    "\n",
    "- Import default config\n",
    "- Import model config file and weights file\n",
    "- Set threshold for the model as 0.5\n",
    "- Initiate default predictor object with the above config"
   ]
  },
  {
   "cell_type": "code",
   "execution_count": 2,
   "metadata": {
    "colab": {
     "base_uri": "https://localhost:8080/",
     "height": 50
    },
    "colab_type": "code",
    "id": "tociThqVoigV",
    "outputId": "cd09a88c-4ea9-4a73-969e-926db1f7086e"
   },
   "outputs": [
    {
     "name": "stdout",
     "output_type": "stream",
     "text": [
      "model_load 10.897995471954346\n"
     ]
    }
   ],
   "source": [
    "start = time.time()\n",
    "cfg = get_cfg()\n",
    "# add project-specific config (e.g., TensorMask) here if you're not running a model in detectron2's core library\n",
    "cfg.merge_from_file(model_zoo.get_config_file(\"COCO-Keypoints/keypoint_rcnn_R_50_FPN_3x.yaml\"))\n",
    "cfg.MODEL.ROI_HEADS.SCORE_THRESH_TEST = 0.5  # set threshold for this model\n",
    "# Find a model from detectron2's model zoo. You can use the https://dl.fbaipublicfiles... url as well\n",
    "cfg.MODEL.WEIGHTS = model_zoo.get_checkpoint_url(\"COCO-Keypoints/keypoint_rcnn_R_50_FPN_3x.yaml\")\n",
    "predictor = DefaultPredictor(cfg)\n",
    "model_load_done = time.time()\n",
    "print(\"model_load\", model_load_done - start)"
   ]
  },
  {
   "cell_type": "markdown",
   "metadata": {
    "colab_type": "text",
    "id": "zj2FDe9TSs5e"
   },
   "source": [
    "## <font style=\"color:green\"> Helper functions</font>\n"
   ]
  },
  {
   "cell_type": "markdown",
   "metadata": {
    "colab_type": "text",
    "id": "fB_jGYxuTD7J"
   },
   "source": [
    "Selects person ids whose score is greater than 0.9"
   ]
  },
  {
   "cell_type": "code",
   "execution_count": 3,
   "metadata": {
    "colab": {},
    "colab_type": "code",
    "id": "DzDBk6T_pKb9"
   },
   "outputs": [],
   "source": [
    "def findPersonIndicies(scores):\n",
    "    return [i for i, s in enumerate(scores) if s > 0.9]"
   ]
  },
  {
   "cell_type": "markdown",
   "metadata": {
    "colab_type": "text",
    "id": "GdkfR4bBTYBk"
   },
   "source": [
    "Finds the slope between two points (x1, y1) and (x2, y2)"
   ]
  },
  {
   "cell_type": "code",
   "execution_count": 4,
   "metadata": {
    "colab": {},
    "colab_type": "code",
    "id": "Ko7-MS1JpgP2"
   },
   "outputs": [],
   "source": [
    "def findSlope(x1, y1, x2, y2):\n",
    "    return float(y2-y1)/(x2-x1)"
   ]
  },
  {
   "cell_type": "markdown",
   "metadata": {
    "colab_type": "text",
    "id": "bhz3BfCNThQV"
   },
   "source": [
    "Finds the angle of the line w.r.t +ve X-axis in counterclockwise direction"
   ]
  },
  {
   "cell_type": "code",
   "execution_count": 5,
   "metadata": {
    "colab": {},
    "colab_type": "code",
    "id": "oxQg7fDhpjpq"
   },
   "outputs": [],
   "source": [
    "import math\n",
    "\n",
    "def findAngle(x1, y1, x2, y2):\n",
    "    return math.atan2(y1 - y2, x1 - x2)"
   ]
  },
  {
   "cell_type": "markdown",
   "metadata": {
    "colab_type": "text",
    "id": "BftfsplEUKTw"
   },
   "source": [
    "Finds the angle between two lines of slope m1 and m2"
   ]
  },
  {
   "cell_type": "code",
   "execution_count": 6,
   "metadata": {
    "colab": {},
    "colab_type": "code",
    "id": "8coQdCwQI9rf"
   },
   "outputs": [],
   "source": [
    "def findAngleBtLines(m1, m2):\n",
    "    PI = 3.14\n",
    "    angle = math.atan((m2 -  m1)/(1 + m1*m2))\n",
    "\n",
    "    return (angle*180)/PI"
   ]
  },
  {
   "cell_type": "markdown",
   "metadata": {
    "colab_type": "text",
    "id": "SABCfdTtUGZa"
   },
   "source": [
    "For the selected persons, collects the required key points among 17 key points\n",
    "- 11-Left hip-0\n",
    "- 12-Right hip-1\n",
    "- 13-Left Knee-2\n",
    "- 14-Right Knee-3\n",
    "- 15-Left Ankle-4\n",
    "- 16-Right Ankle-5"
   ]
  },
  {
   "cell_type": "code",
   "execution_count": 7,
   "metadata": {
    "colab": {},
    "colab_type": "code",
    "id": "pYb3HRsJpnpW"
   },
   "outputs": [],
   "source": [
    "def filterPersons(outputs):\n",
    "    persons = {}\n",
    "    pIndicies = findPersonIndicies(outputs[\"instances\"].scores)\n",
    "\n",
    "    for x in pIndicies:\n",
    "        desired_kp = outputs[\"instances\"].pred_keypoints[x][11:].to(\"cpu\")\n",
    "        persons[x] = desired_kp\n",
    "\n",
    "    return (persons, pIndicies)"
   ]
  },
  {
   "cell_type": "code",
   "execution_count": 8,
   "metadata": {
    "colab": {},
    "colab_type": "code",
    "id": "hnYzssTyvqQI"
   },
   "outputs": [],
   "source": [
    "def drawLine(image, P1, P2, color):\n",
    "    cv2.line(image, P1, P2, color, thickness=3, lineType=8)"
   ]
  },
  {
   "cell_type": "code",
   "execution_count": 9,
   "metadata": {
    "colab": {},
    "colab_type": "code",
    "id": "2TUsRYtBMtj2"
   },
   "outputs": [],
   "source": [
    "def putTextOnImage(image, text, X, Y, color):\n",
    "    font = cv2.FONT_HERSHEY_SIMPLEX\n",
    "    font_scale = 1\n",
    "    font_thickness = 2\n",
    "\n",
    "    cv2.putText(image, text,(X, Y),font, font_scale,color,font_thickness,cv2.LINE_AA)"
   ]
  },
  {
   "cell_type": "markdown",
   "metadata": {
    "colab_type": "text",
    "id": "xRcgQxBNVLFb"
   },
   "source": [
    "## <font style=\"color:green\"> Measurement of angles based on key points</font>\n",
    "* Find the slope of line connecting knee-ankle, hip-knee for the left and right sides and slope of line connecting knees.\n",
    "* Based on the above slopes find the angle between left knee-ankle and right knee-ankle line. This angle has to be +ve when the person is in a correct squat position.\n",
    "* The angle between left hip-knee line to the knee-knee line and the right hip-knee line to the knee-knee line should be below 30 degrees.\n",
    "* We draw the corresponding lines with same color and use the same color to represent the angle between them.\n"
   ]
  },
  {
   "cell_type": "code",
   "execution_count": 10,
   "metadata": {
    "colab": {},
    "colab_type": "code",
    "id": "SnB6YfhzHL5W"
   },
   "outputs": [],
   "source": [
    "#11-Left hip-0\n",
    "#12-Right hip-1\n",
    "#13-Left Knee-2\n",
    "#14-Right Knee-3\n",
    "#15-Left Ankle-4\n",
    "#16-Right Ankle-5\n",
    "kp_mapping = {\"Left Hip\": 0, \"Right Hip\": 1, \"Left Knee\": 2, \"Right Knee\": 3, \"Left Ankle\": 4, \"Right Ankle\": 5}\n",
    "\n",
    "def drawKeypoints(outputs, im):\n",
    "    persons, pIndicies = filterPersons(outputs)\n",
    "    img = im.copy()\n",
    "\n",
    "    angles_output = {}\n",
    "\n",
    "    for i in pIndicies:\n",
    "        l_arr1 = persons[i][2]\n",
    "        l_arr2 = persons[i][4]\n",
    "        l_arr3 = persons[i][0]\n",
    "        r_arr1 = persons[i][3]\n",
    "        r_arr2 = persons[i][5]\n",
    "        r_arr3 = persons[i][1]\n",
    "\n",
    "        left_ka_slope = findSlope(l_arr1[0], l_arr1[1], l_arr2[0], l_arr2[1])\n",
    "        left_kh_slope = findSlope(l_arr3[0], l_arr3[1], l_arr1[0], l_arr1[1])\n",
    "        right_ka_slope = findSlope(r_arr1[0], r_arr1[1], r_arr2[0], r_arr2[1])\n",
    "        right_kh_slope = findSlope(r_arr3[0], r_arr3[1], r_arr1[0], r_arr1[1])\n",
    "        kk_slope = findSlope(r_arr1[0], r_arr1[1], l_arr1[0], l_arr1[1])\n",
    "\n",
    "        angle_btw_knees = findAngleBtLines(right_ka_slope, left_ka_slope)\n",
    "        left_hk_angle = findAngleBtLines(kk_slope, left_kh_slope)\n",
    "        right_hk_angle = findAngleBtLines(right_kh_slope, kk_slope)\n",
    "\n",
    "        angles_output[i] = [right_hk_angle, left_hk_angle, angle_btw_knees]\n",
    "\n",
    "        #Considering only one person\n",
    "        if i == 0:\n",
    "            if not math.isnan(angle_btw_knees):\n",
    "                knees_ctr_pt = (np.array(l_arr2) + np.array(r_arr2))/2\n",
    "                putTextOnImage(img, str(int(angle_btw_knees)), int(knees_ctr_pt[0]) - 10, int(knees_ctr_pt[1]), \n",
    "                               (0,255,0))\n",
    "\n",
    "            if not math.isnan(left_hk_angle):\n",
    "                left_hk_pt = l_arr1\n",
    "                putTextOnImage(img, str(int(left_hk_angle)), int(left_hk_pt[0]) + 10, int(left_hk_pt[1]), \n",
    "                               (255,255,0))\n",
    "\n",
    "            if not math.isnan(right_hk_angle):\n",
    "                right_hk_pt = r_arr1\n",
    "                putTextOnImage(img, str(int(right_hk_angle)), int(right_hk_pt[0]) - 40, int(right_hk_pt[1]), \n",
    "                               (255,255,0))\n",
    "\n",
    "            ##Draw left knee ankle line\n",
    "            drawLine(img, (l_arr1[0], l_arr1[1]), (l_arr2[0], l_arr2[1]), (0, 255, 0))\n",
    "\n",
    "            ##Draw left hip knee line\n",
    "            drawLine(img, (l_arr3[0], l_arr3[1]), (l_arr1[0], l_arr1[1]), (255, 255, 0))\n",
    "\n",
    "            ##Draw right knee ankle line\n",
    "            drawLine(img, (r_arr1[0], r_arr1[1]), (r_arr2[0], r_arr2[1]), (0, 255, 0))\n",
    "\n",
    "            ##Draw right hip knee line\n",
    "            drawLine(img, (r_arr3[0], r_arr3[1]), (r_arr1[0], r_arr1[1]), (255, 255, 0))\n",
    "\n",
    "            ##Draw knees connecting and hips connecting line\n",
    "            drawLine(img, (r_arr1[0], r_arr1[1]), (l_arr1[0], l_arr1[1]), (255, 255, 0))\n",
    "            drawLine(img, (r_arr3[0], r_arr3[1]), (l_arr3[0], l_arr3[1]), (255, 0, 0))\n",
    "\n",
    "    return img, angles_output"
   ]
  },
  {
   "cell_type": "code",
   "execution_count": 11,
   "metadata": {
    "colab": {},
    "colab_type": "code",
    "id": "ICu2b6aQbqLS"
   },
   "outputs": [],
   "source": [
    "def predict(im):\n",
    "    model_start = time.time()\n",
    "    outputs = predictor(im)\n",
    "    model_out = time.time()\n",
    "    # print(\"model output time\", model_out - model_start)\n",
    "    out, angles_out = drawKeypoints(outputs, im)\n",
    "    # print(\"process and draw output\", time.time() - model_out)\n",
    "\n",
    "    return out, angles_out"
   ]
  },
  {
   "cell_type": "markdown",
   "metadata": {
    "colab_type": "text",
    "id": "3KF9iOd6X20r"
   },
   "source": [
    "## <font style=\"color:green\"> Inference on Video</font>\n",
    "\n",
    "Below function takes the video path as input and returns the output video which shows the squat counter and the respective angles of the lower  body.\n",
    "\n",
    "- Every alternate frame is processed to reduce the processing time (`n_frame=2`)\n",
    "- As mentioned in the measurement of angles section, we use the conditions on angles after each frame is processed.\n",
    "- Squat count is increased whenever the previous frame doesn't meet the conditions and the current frame meets the conditions.\n",
    "- If any immediate frame after correct squat frame misses the squat condition and gets back to the correct squat frame again, then it is handled to not increase the squat count unless the differences of frames between `2 squats > 10 frames`.\n",
    "\n",
    "**[Download the Input Video](https://www.dropbox.com/s/ygpbc5q0xtrsjqq/ProperSquatTechnique_cut.mp4?dl=1)**"
   ]
  },
  {
   "cell_type": "code",
   "execution_count": 12,
   "metadata": {
    "colab": {},
    "colab_type": "code",
    "id": "cwWU0eDWavCq"
   },
   "outputs": [],
   "source": [
    "def inferenceOnVideo(videoPath):\n",
    "    cap = cv2.VideoCapture(videoPath)\n",
    "    cnt = 0\n",
    "    n_frame = 2\n",
    "\n",
    "    output_frames = []\n",
    "    prev_val = -1\n",
    "    squat_cnt = 0\n",
    "    prev_squat_frame = 0\n",
    "    process_start = time.time()\n",
    "    \n",
    "    while True:\n",
    "        ret, im = cap.read()\n",
    "\n",
    "        if not ret:\n",
    "            break\n",
    "\n",
    "        if cnt%n_frame == 0:\n",
    "            output, angles_output = predict(im)\n",
    "            temp_val = 0\n",
    "            person_out = angles_output[0]\n",
    "\n",
    "            if (int(person_out[0]) < 30) and (int(person_out[1]) < 30):\n",
    "                if person_out[2] >= 0:\n",
    "                    temp_val = 1\n",
    "\n",
    "            if (prev_val == 0 and temp_val == 1) and (cnt - prev_squat_frame > 10):\n",
    "                squat_cnt = squat_cnt + 1\n",
    "                prev_squat_frame = cnt\n",
    "\n",
    "            putTextOnImage(output, \"Squat count: \" + str(squat_cnt), 50, 50, (255,0,0))\n",
    "            output_frames.append(output)\n",
    "\n",
    "            prev_val = temp_val\n",
    "\n",
    "        cnt = cnt + 1\n",
    "\n",
    "    vid_write_start = time.time()\n",
    "    print(\"total processing time\", vid_write_start - process_start)\n",
    "    height, width, _ = output_frames[0].shape\n",
    "    size = (width,height)\n",
    "    out = cv2.VideoWriter(\"out1.mp4\",cv2.VideoWriter_fourcc(*'mp4v'), 10, size)\n",
    "\n",
    "    for i in range(len(output_frames)):\n",
    "        out.write(output_frames[i])\n",
    "\n",
    "    print(\"video writing time\", time.time() - vid_write_start)\n",
    "\n",
    "    out.release()"
   ]
  },
  {
   "cell_type": "code",
   "execution_count": 13,
   "metadata": {
    "colab": {
     "base_uri": "https://localhost:8080/",
     "height": 675
    },
    "colab_type": "code",
    "id": "DEfefubOfgof",
    "outputId": "67726d8b-dbed-406f-c4d1-d910cf9cff4a"
   },
   "outputs": [
    {
     "name": "stdout",
     "output_type": "stream",
     "text": [
      "total processing time 54.32048058509827\n",
      "video writing time 1.1102583408355713\n",
      "55.454410791397095\n"
     ]
    }
   ],
   "source": [
    "start= time.time()\n",
    "inferenceOnVideo(\"ProperSquatTechnique_cut.mp4\")\n",
    "print(time.time() - start)"
   ]
  }
 ],
 "metadata": {
  "accelerator": "GPU",
  "colab": {
   "collapsed_sections": [],
   "name": "Squat_check.ipynb",
   "provenance": []
  },
  "kernelspec": {
   "display_name": "Python 3",
   "language": "python",
   "name": "python3"
  },
  "language_info": {
   "codemirror_mode": {
    "name": "ipython",
    "version": 3
   },
   "file_extension": ".py",
   "mimetype": "text/x-python",
   "name": "python",
   "nbconvert_exporter": "python",
   "pygments_lexer": "ipython3",
   "version": "3.7.4"
  }
 },
 "nbformat": 4,
 "nbformat_minor": 1
}
