{
 "cells": [
  {
   "cell_type": "markdown",
   "metadata": {},
   "source": [
    "# <font style=\"color:blue\">2. Generating Anchor Boxes</font>\n",
    "\n",
    "Our detector has 9 anchors for every feature map by default.\n",
    "\n",
    "<img src='https://www.learnopencv.com/wp-content/uploads/2020/03/c3-w8-anchors.png' align='middle'>\n",
    "\n",
    "**What is feature map here?**\n",
    "\n",
    "Let's say `a` is an input image of dimension `256x256`, and it has two feature maps `b` (`8 x 8 feature map (grid)`) and `c` (`4 x 4 feature map (grid)`). One element of the feature map represents segments of pixels in the original image `a`.\n",
    "\n",
    "\n",
    "\n",
    "**Why 9?**\n",
    "\n",
    "To answer this question, let's take a look into DataEncoder class.\n",
    "We have 3 aspect ratios of sizes $1/2$, $1$ and $2$. For each size, there are `3` scales: $1, 2^{1/3}$ and $2^{2/3}$.\n",
    "These anchors of the appropriate sizes are generated for each of five feature maps we have."
   ]
  },
  {
   "cell_type": "code",
   "execution_count": 1,
   "metadata": {},
   "outputs": [],
   "source": [
    "from IPython.display import Code\n",
    "import inspect\n",
    "\n",
    "from trainer.encoder import (\n",
    "    DataEncoder,\n",
    "    decode_boxes,\n",
    "    encode_boxes,\n",
    "    generate_anchors,\n",
    "    generate_anchor_grid\n",
    ")"
   ]
  },
  {
   "cell_type": "code",
   "execution_count": 2,
   "metadata": {},
   "outputs": [
    {
     "data": {
      "text/html": [
       "<style>.output_html .hll { background-color: #ffffcc }\n",
       ".output_html  { background: #f8f8f8; }\n",
       ".output_html .c { color: #408080; font-style: italic } /* Comment */\n",
       ".output_html .err { border: 1px solid #FF0000 } /* Error */\n",
       ".output_html .k { color: #008000; font-weight: bold } /* Keyword */\n",
       ".output_html .o { color: #666666 } /* Operator */\n",
       ".output_html .ch { color: #408080; font-style: italic } /* Comment.Hashbang */\n",
       ".output_html .cm { color: #408080; font-style: italic } /* Comment.Multiline */\n",
       ".output_html .cp { color: #BC7A00 } /* Comment.Preproc */\n",
       ".output_html .cpf { color: #408080; font-style: italic } /* Comment.PreprocFile */\n",
       ".output_html .c1 { color: #408080; font-style: italic } /* Comment.Single */\n",
       ".output_html .cs { color: #408080; font-style: italic } /* Comment.Special */\n",
       ".output_html .gd { color: #A00000 } /* Generic.Deleted */\n",
       ".output_html .ge { font-style: italic } /* Generic.Emph */\n",
       ".output_html .gr { color: #FF0000 } /* Generic.Error */\n",
       ".output_html .gh { color: #000080; font-weight: bold } /* Generic.Heading */\n",
       ".output_html .gi { color: #00A000 } /* Generic.Inserted */\n",
       ".output_html .go { color: #888888 } /* Generic.Output */\n",
       ".output_html .gp { color: #000080; font-weight: bold } /* Generic.Prompt */\n",
       ".output_html .gs { font-weight: bold } /* Generic.Strong */\n",
       ".output_html .gu { color: #800080; font-weight: bold } /* Generic.Subheading */\n",
       ".output_html .gt { color: #0044DD } /* Generic.Traceback */\n",
       ".output_html .kc { color: #008000; font-weight: bold } /* Keyword.Constant */\n",
       ".output_html .kd { color: #008000; font-weight: bold } /* Keyword.Declaration */\n",
       ".output_html .kn { color: #008000; font-weight: bold } /* Keyword.Namespace */\n",
       ".output_html .kp { color: #008000 } /* Keyword.Pseudo */\n",
       ".output_html .kr { color: #008000; font-weight: bold } /* Keyword.Reserved */\n",
       ".output_html .kt { color: #B00040 } /* Keyword.Type */\n",
       ".output_html .m { color: #666666 } /* Literal.Number */\n",
       ".output_html .s { color: #BA2121 } /* Literal.String */\n",
       ".output_html .na { color: #7D9029 } /* Name.Attribute */\n",
       ".output_html .nb { color: #008000 } /* Name.Builtin */\n",
       ".output_html .nc { color: #0000FF; font-weight: bold } /* Name.Class */\n",
       ".output_html .no { color: #880000 } /* Name.Constant */\n",
       ".output_html .nd { color: #AA22FF } /* Name.Decorator */\n",
       ".output_html .ni { color: #999999; font-weight: bold } /* Name.Entity */\n",
       ".output_html .ne { color: #D2413A; font-weight: bold } /* Name.Exception */\n",
       ".output_html .nf { color: #0000FF } /* Name.Function */\n",
       ".output_html .nl { color: #A0A000 } /* Name.Label */\n",
       ".output_html .nn { color: #0000FF; font-weight: bold } /* Name.Namespace */\n",
       ".output_html .nt { color: #008000; font-weight: bold } /* Name.Tag */\n",
       ".output_html .nv { color: #19177C } /* Name.Variable */\n",
       ".output_html .ow { color: #AA22FF; font-weight: bold } /* Operator.Word */\n",
       ".output_html .w { color: #bbbbbb } /* Text.Whitespace */\n",
       ".output_html .mb { color: #666666 } /* Literal.Number.Bin */\n",
       ".output_html .mf { color: #666666 } /* Literal.Number.Float */\n",
       ".output_html .mh { color: #666666 } /* Literal.Number.Hex */\n",
       ".output_html .mi { color: #666666 } /* Literal.Number.Integer */\n",
       ".output_html .mo { color: #666666 } /* Literal.Number.Oct */\n",
       ".output_html .sa { color: #BA2121 } /* Literal.String.Affix */\n",
       ".output_html .sb { color: #BA2121 } /* Literal.String.Backtick */\n",
       ".output_html .sc { color: #BA2121 } /* Literal.String.Char */\n",
       ".output_html .dl { color: #BA2121 } /* Literal.String.Delimiter */\n",
       ".output_html .sd { color: #BA2121; font-style: italic } /* Literal.String.Doc */\n",
       ".output_html .s2 { color: #BA2121 } /* Literal.String.Double */\n",
       ".output_html .se { color: #BB6622; font-weight: bold } /* Literal.String.Escape */\n",
       ".output_html .sh { color: #BA2121 } /* Literal.String.Heredoc */\n",
       ".output_html .si { color: #BB6688; font-weight: bold } /* Literal.String.Interpol */\n",
       ".output_html .sx { color: #008000 } /* Literal.String.Other */\n",
       ".output_html .sr { color: #BB6688 } /* Literal.String.Regex */\n",
       ".output_html .s1 { color: #BA2121 } /* Literal.String.Single */\n",
       ".output_html .ss { color: #19177C } /* Literal.String.Symbol */\n",
       ".output_html .bp { color: #008000 } /* Name.Builtin.Pseudo */\n",
       ".output_html .fm { color: #0000FF } /* Name.Function.Magic */\n",
       ".output_html .vc { color: #19177C } /* Name.Variable.Class */\n",
       ".output_html .vg { color: #19177C } /* Name.Variable.Global */\n",
       ".output_html .vi { color: #19177C } /* Name.Variable.Instance */\n",
       ".output_html .vm { color: #19177C } /* Name.Variable.Magic */\n",
       ".output_html .il { color: #666666 } /* Literal.Number.Integer.Long */</style><div class=\"highlight\"><pre><span></span><span class=\"w\">    </span><span class=\"n\">def</span><span class=\"w\"> </span><span class=\"n\">__init__</span><span class=\"p\">(</span><span class=\"n\">self</span><span class=\"p\">,</span><span class=\"w\"> </span><span class=\"n\">input_size</span><span class=\"p\">)</span><span class=\"err\">:</span><span class=\"w\"></span>\n",
       "<span class=\"w\">        </span><span class=\"n\">self</span><span class=\"p\">.</span><span class=\"n\">input_size</span><span class=\"w\"> </span><span class=\"o\">=</span><span class=\"w\"> </span><span class=\"n\">input_size</span><span class=\"w\"></span>\n",
       "<span class=\"w\">        </span><span class=\"n\">self</span><span class=\"p\">.</span><span class=\"n\">anchor_areas</span><span class=\"w\"> </span><span class=\"o\">=</span><span class=\"w\"> </span><span class=\"o\">[</span><span class=\"n\">8 * 8, 16 * 16., 32 * 32., 64 * 64., 128 * 128</span><span class=\"o\">]</span><span class=\"w\">  </span><span class=\"err\">#</span><span class=\"w\"> </span><span class=\"n\">p3</span><span class=\"w\"> </span><span class=\"o\">-&gt;</span><span class=\"w\"> </span><span class=\"n\">p7</span><span class=\"w\"></span>\n",
       "<span class=\"w\">        </span><span class=\"n\">self</span><span class=\"p\">.</span><span class=\"n\">aspect_ratios</span><span class=\"w\"> </span><span class=\"o\">=</span><span class=\"w\"> </span><span class=\"o\">[</span><span class=\"n\">0.5, 1, 2</span><span class=\"o\">]</span><span class=\"w\"></span>\n",
       "<span class=\"w\">        </span><span class=\"n\">self</span><span class=\"p\">.</span><span class=\"n\">scales</span><span class=\"w\"> </span><span class=\"o\">=</span><span class=\"w\"> </span><span class=\"o\">[</span><span class=\"n\">1, pow(2, 1 / 3.), pow(2, 2 / 3.)</span><span class=\"o\">]</span><span class=\"w\"></span>\n",
       "<span class=\"w\">        </span><span class=\"n\">num_fms</span><span class=\"w\"> </span><span class=\"o\">=</span><span class=\"w\"> </span><span class=\"nf\">len</span><span class=\"p\">(</span><span class=\"n\">self</span><span class=\"p\">.</span><span class=\"n\">anchor_areas</span><span class=\"p\">)</span><span class=\"w\"></span>\n",
       "<span class=\"w\">        </span><span class=\"n\">fm_sizes</span><span class=\"w\"> </span><span class=\"o\">=</span><span class=\"w\"> </span><span class=\"o\">[</span><span class=\"n\">math.ceil(self.input_size[0</span><span class=\"o\">]</span><span class=\"w\"> </span><span class=\"o\">/</span><span class=\"w\"> </span><span class=\"n\">pow</span><span class=\"p\">(</span><span class=\"mf\">2.</span><span class=\"p\">,</span><span class=\"w\"> </span><span class=\"n\">i</span><span class=\"w\"> </span><span class=\"o\">+</span><span class=\"w\"> </span><span class=\"mi\">3</span><span class=\"p\">))</span><span class=\"w\"> </span><span class=\"k\">for</span><span class=\"w\"> </span><span class=\"n\">i</span><span class=\"w\"> </span><span class=\"ow\">in</span><span class=\"w\"> </span><span class=\"k\">range</span><span class=\"p\">(</span><span class=\"n\">num_fms</span><span class=\"p\">)</span><span class=\"err\">]</span><span class=\"w\"></span>\n",
       "<span class=\"w\">        </span><span class=\"n\">self</span><span class=\"p\">.</span><span class=\"n\">anchor_boxes</span><span class=\"w\"> </span><span class=\"o\">=</span><span class=\"w\"> </span><span class=\"err\">[]</span><span class=\"w\"></span>\n",
       "<span class=\"w\">        </span><span class=\"k\">for</span><span class=\"w\"> </span><span class=\"n\">i</span><span class=\"p\">,</span><span class=\"w\"> </span><span class=\"n\">fm_size</span><span class=\"w\"> </span><span class=\"ow\">in</span><span class=\"w\"> </span><span class=\"n\">enumerate</span><span class=\"p\">(</span><span class=\"n\">fm_sizes</span><span class=\"p\">)</span><span class=\"err\">:</span><span class=\"w\"></span>\n",
       "<span class=\"w\">            </span><span class=\"n\">anchors</span><span class=\"w\"> </span><span class=\"o\">=</span><span class=\"w\"> </span><span class=\"n\">generate_anchors</span><span class=\"p\">(</span><span class=\"n\">self</span><span class=\"p\">.</span><span class=\"n\">anchor_areas</span><span class=\"o\">[</span><span class=\"n\">i</span><span class=\"o\">]</span><span class=\"p\">,</span><span class=\"w\"> </span><span class=\"n\">self</span><span class=\"p\">.</span><span class=\"n\">aspect_ratios</span><span class=\"p\">,</span><span class=\"w\"> </span><span class=\"n\">self</span><span class=\"p\">.</span><span class=\"n\">scales</span><span class=\"p\">)</span><span class=\"w\"></span>\n",
       "<span class=\"w\">            </span><span class=\"n\">anchor_grid</span><span class=\"w\"> </span><span class=\"o\">=</span><span class=\"w\"> </span><span class=\"n\">generate_anchor_grid</span><span class=\"p\">(</span><span class=\"n\">input_size</span><span class=\"p\">,</span><span class=\"w\"> </span><span class=\"n\">fm_size</span><span class=\"p\">,</span><span class=\"w\"> </span><span class=\"n\">anchors</span><span class=\"p\">)</span><span class=\"w\"></span>\n",
       "<span class=\"w\">            </span><span class=\"n\">self</span><span class=\"p\">.</span><span class=\"n\">anchor_boxes</span><span class=\"p\">.</span><span class=\"n\">append</span><span class=\"p\">(</span><span class=\"n\">anchor_grid</span><span class=\"p\">)</span><span class=\"w\"></span>\n",
       "<span class=\"w\">        </span><span class=\"n\">self</span><span class=\"p\">.</span><span class=\"n\">anchor_boxes</span><span class=\"w\"> </span><span class=\"o\">=</span><span class=\"w\"> </span><span class=\"n\">torch</span><span class=\"p\">.</span><span class=\"n\">cat</span><span class=\"p\">(</span><span class=\"n\">self</span><span class=\"p\">.</span><span class=\"n\">anchor_boxes</span><span class=\"p\">,</span><span class=\"w\"> </span><span class=\"mi\">0</span><span class=\"p\">)</span><span class=\"w\"></span>\n",
       "<span class=\"w\">        </span><span class=\"n\">self</span><span class=\"p\">.</span><span class=\"n\">classes</span><span class=\"w\"> </span><span class=\"o\">=</span><span class=\"w\"> </span><span class=\"o\">[</span><span class=\"n\">&quot;__background__&quot;, &quot;person&quot;</span><span class=\"o\">]</span><span class=\"w\"></span>\n",
       "</pre></div>\n"
      ],
      "text/latex": [
       "\\begin{Verbatim}[commandchars=\\\\\\{\\}]\n",
       "\\PY{+w}{    }\\PY{n}{def}\\PY{+w}{ }\\PY{n}{\\PYZus{}\\PYZus{}init\\PYZus{}\\PYZus{}}\\PY{p}{(}\\PY{n}{self}\\PY{p}{,}\\PY{+w}{ }\\PY{n}{input\\PYZus{}size}\\PY{p}{)}\\PY{err}{:}\n",
       "\\PY{+w}{        }\\PY{n}{self}\\PY{p}{.}\\PY{n}{input\\PYZus{}size}\\PY{+w}{ }\\PY{o}{=}\\PY{+w}{ }\\PY{n}{input\\PYZus{}size}\n",
       "\\PY{+w}{        }\\PY{n}{self}\\PY{p}{.}\\PY{n}{anchor\\PYZus{}areas}\\PY{+w}{ }\\PY{o}{=}\\PY{+w}{ }\\PY{o}{[}\\PY{n}{8 * 8, 16 * 16., 32 * 32., 64 * 64., 128 * 128}\\PY{o}{]}\\PY{+w}{  }\\PY{err}{\\PYZsh{}}\\PY{+w}{ }\\PY{n}{p3}\\PY{+w}{ }\\PY{o}{\\PYZhy{}}\\PY{o}{\\PYZgt{}}\\PY{+w}{ }\\PY{n}{p7}\n",
       "\\PY{+w}{        }\\PY{n}{self}\\PY{p}{.}\\PY{n}{aspect\\PYZus{}ratios}\\PY{+w}{ }\\PY{o}{=}\\PY{+w}{ }\\PY{o}{[}\\PY{n}{0.5, 1, 2}\\PY{o}{]}\n",
       "\\PY{+w}{        }\\PY{n}{self}\\PY{p}{.}\\PY{n}{scales}\\PY{+w}{ }\\PY{o}{=}\\PY{+w}{ }\\PY{o}{[}\\PY{n}{1, pow(2, 1 / 3.), pow(2, 2 / 3.)}\\PY{o}{]}\n",
       "\\PY{+w}{        }\\PY{n}{num\\PYZus{}fms}\\PY{+w}{ }\\PY{o}{=}\\PY{+w}{ }\\PY{n+nf}{len}\\PY{p}{(}\\PY{n}{self}\\PY{p}{.}\\PY{n}{anchor\\PYZus{}areas}\\PY{p}{)}\n",
       "\\PY{+w}{        }\\PY{n}{fm\\PYZus{}sizes}\\PY{+w}{ }\\PY{o}{=}\\PY{+w}{ }\\PY{o}{[}\\PY{n}{math.ceil(self.input\\PYZus{}size[0}\\PY{o}{]}\\PY{+w}{ }\\PY{o}{/}\\PY{+w}{ }\\PY{n}{pow}\\PY{p}{(}\\PY{l+m+mf}{2.}\\PY{p}{,}\\PY{+w}{ }\\PY{n}{i}\\PY{+w}{ }\\PY{o}{+}\\PY{+w}{ }\\PY{l+m+mi}{3}\\PY{p}{)}\\PY{p}{)}\\PY{+w}{ }\\PY{k}{for}\\PY{+w}{ }\\PY{n}{i}\\PY{+w}{ }\\PY{o+ow}{in}\\PY{+w}{ }\\PY{k}{range}\\PY{p}{(}\\PY{n}{num\\PYZus{}fms}\\PY{p}{)}\\PY{err}{]}\n",
       "\\PY{+w}{        }\\PY{n}{self}\\PY{p}{.}\\PY{n}{anchor\\PYZus{}boxes}\\PY{+w}{ }\\PY{o}{=}\\PY{+w}{ }\\PY{err}{[}\\PY{err}{]}\n",
       "\\PY{+w}{        }\\PY{k}{for}\\PY{+w}{ }\\PY{n}{i}\\PY{p}{,}\\PY{+w}{ }\\PY{n}{fm\\PYZus{}size}\\PY{+w}{ }\\PY{o+ow}{in}\\PY{+w}{ }\\PY{n}{enumerate}\\PY{p}{(}\\PY{n}{fm\\PYZus{}sizes}\\PY{p}{)}\\PY{err}{:}\n",
       "\\PY{+w}{            }\\PY{n}{anchors}\\PY{+w}{ }\\PY{o}{=}\\PY{+w}{ }\\PY{n}{generate\\PYZus{}anchors}\\PY{p}{(}\\PY{n}{self}\\PY{p}{.}\\PY{n}{anchor\\PYZus{}areas}\\PY{o}{[}\\PY{n}{i}\\PY{o}{]}\\PY{p}{,}\\PY{+w}{ }\\PY{n}{self}\\PY{p}{.}\\PY{n}{aspect\\PYZus{}ratios}\\PY{p}{,}\\PY{+w}{ }\\PY{n}{self}\\PY{p}{.}\\PY{n}{scales}\\PY{p}{)}\n",
       "\\PY{+w}{            }\\PY{n}{anchor\\PYZus{}grid}\\PY{+w}{ }\\PY{o}{=}\\PY{+w}{ }\\PY{n}{generate\\PYZus{}anchor\\PYZus{}grid}\\PY{p}{(}\\PY{n}{input\\PYZus{}size}\\PY{p}{,}\\PY{+w}{ }\\PY{n}{fm\\PYZus{}size}\\PY{p}{,}\\PY{+w}{ }\\PY{n}{anchors}\\PY{p}{)}\n",
       "\\PY{+w}{            }\\PY{n}{self}\\PY{p}{.}\\PY{n}{anchor\\PYZus{}boxes}\\PY{p}{.}\\PY{n}{append}\\PY{p}{(}\\PY{n}{anchor\\PYZus{}grid}\\PY{p}{)}\n",
       "\\PY{+w}{        }\\PY{n}{self}\\PY{p}{.}\\PY{n}{anchor\\PYZus{}boxes}\\PY{+w}{ }\\PY{o}{=}\\PY{+w}{ }\\PY{n}{torch}\\PY{p}{.}\\PY{n}{cat}\\PY{p}{(}\\PY{n}{self}\\PY{p}{.}\\PY{n}{anchor\\PYZus{}boxes}\\PY{p}{,}\\PY{+w}{ }\\PY{l+m+mi}{0}\\PY{p}{)}\n",
       "\\PY{+w}{        }\\PY{n}{self}\\PY{p}{.}\\PY{n}{classes}\\PY{+w}{ }\\PY{o}{=}\\PY{+w}{ }\\PY{o}{[}\\PY{n}{\\PYZdq{}\\PYZus{}\\PYZus{}background\\PYZus{}\\PYZus{}\\PYZdq{}, \\PYZdq{}person\\PYZdq{}}\\PY{o}{]}\n",
       "\\end{Verbatim}\n"
      ],
      "text/plain": [
       "    def __init__(self, input_size):\n",
       "        self.input_size = input_size\n",
       "        self.anchor_areas = [8 * 8, 16 * 16., 32 * 32., 64 * 64., 128 * 128]  # p3 -> p7\n",
       "        self.aspect_ratios = [0.5, 1, 2]\n",
       "        self.scales = [1, pow(2, 1 / 3.), pow(2, 2 / 3.)]\n",
       "        num_fms = len(self.anchor_areas)\n",
       "        fm_sizes = [math.ceil(self.input_size[0] / pow(2., i + 3)) for i in range(num_fms)]\n",
       "        self.anchor_boxes = []\n",
       "        for i, fm_size in enumerate(fm_sizes):\n",
       "            anchors = generate_anchors(self.anchor_areas[i], self.aspect_ratios, self.scales)\n",
       "            anchor_grid = generate_anchor_grid(input_size, fm_size, anchors)\n",
       "            self.anchor_boxes.append(anchor_grid)\n",
       "        self.anchor_boxes = torch.cat(self.anchor_boxes, 0)\n",
       "        self.classes = [\"__background__\", \"person\"]"
      ]
     },
     "execution_count": 2,
     "metadata": {},
     "output_type": "execute_result"
    }
   ],
   "source": [
    "Code(data=inspect.getsource(DataEncoder.__init__))"
   ]
  },
  {
   "cell_type": "markdown",
   "metadata": {},
   "source": [
    "**Why have we chosen the following anchor area?**\n",
    "```\n",
    "anchor_areas = [8 * 8, 16 * 16., 32 * 32., 64 * 64., 128 * 128]  # p3 -> p7\n",
    "```\n",
    "The first anchor area is responsible for generating anchors for the first output layer of `FPN` and so on. \n",
    "\n",
    "```\n",
    "256/8 = 32\n",
    "\n",
    "256/16 = 16\n",
    "   .\n",
    "   .\n",
    "256/128 = 2\n",
    "```\n",
    "\n",
    "**So, how do we generate them?**\n",
    "\n",
    "We first generate our 9 anchors, knowing which areas it should cover, using predefined ratios and scales."
   ]
  },
  {
   "cell_type": "code",
   "execution_count": 3,
   "metadata": {},
   "outputs": [
    {
     "name": "stdout",
     "output_type": "stream",
     "text": [
      "def generate_anchors(anchor_area, aspect_ratios, scales):\n",
      "    anchors = []\n",
      "    for scale in scales:\n",
      "        for ratio in aspect_ratios:\n",
      "            h = math.sqrt(anchor_area/ratio)\n",
      "            w = math.sqrt(anchor_area*ratio)\n",
      "            x1 = (math.sqrt(anchor_area) - scale * w) * 0.5\n",
      "            y1 = (math.sqrt(anchor_area) - scale * h) * 0.5\n",
      "            x2 = (math.sqrt(anchor_area) + scale * w) * 0.5\n",
      "            y2 = (math.sqrt(anchor_area) + scale * h) * 0.5\n",
      "            anchors.append([x1, y1, x2, y2])\n",
      "    return torch.Tensor(anchors)\n",
      "\n"
     ]
    }
   ],
   "source": [
    "print(Code(data=inspect.getsource(generate_anchors)))"
   ]
  },
  {
   "cell_type": "markdown",
   "metadata": {},
   "source": [
    "For each feature map we create a grid, that will allow us to densely put all of the possible boxes."
   ]
  },
  {
   "cell_type": "code",
   "execution_count": 4,
   "metadata": {},
   "outputs": [
    {
     "name": "stdout",
     "output_type": "stream",
     "text": [
      "def generate_anchor_grid(input_size, fm_size, anchors):\n",
      "    grid_size = input_size[0] / fm_size\n",
      "    x, y = torch.meshgrid(torch.arange(0, fm_size) * grid_size, torch.arange(0, fm_size) * grid_size)\n",
      "    anchors = anchors.view(-1, 1, 1, 4)\n",
      "    xyxy = torch.stack([x, y, x, y], 2).float()\n",
      "    boxes = (xyxy + anchors).permute(2, 1, 0, 3).contiguous().view(-1, 4)\n",
      "    boxes[:, 0::2] = boxes[:, 0::2].clamp(0, input_size[0])\n",
      "    boxes[:, 1::2] = boxes[:, 1::2].clamp(0, input_size[1])\n",
      "    return boxes\n",
      "\n"
     ]
    }
   ],
   "source": [
    "print(Code(data=inspect.getsource(generate_anchor_grid)))"
   ]
  },
  {
   "cell_type": "markdown",
   "metadata": {},
   "source": [
    "**Let's check the size of the anchor boxes. for input image size `3x256x256` and `3x300x300`.**"
   ]
  },
  {
   "cell_type": "code",
   "execution_count": 5,
   "metadata": {},
   "outputs": [
    {
     "name": "stdout",
     "output_type": "stream",
     "text": [
      "anchor_boxes size: torch.Size([12276, 4])\n"
     ]
    }
   ],
   "source": [
    "height_width = (256, 256)\n",
    "\n",
    "data_encoder = DataEncoder(height_width)\n",
    "\n",
    "print('anchor_boxes size: {}'.format(data_encoder.anchor_boxes.size()))"
   ]
  },
  {
   "cell_type": "code",
   "execution_count": 6,
   "metadata": {},
   "outputs": [
    {
     "name": "stdout",
     "output_type": "stream",
     "text": [
      "anchor_boxes size: torch.Size([17451, 4])\n"
     ]
    }
   ],
   "source": [
    "height_width = (300, 300)\n",
    "\n",
    "data_encoder = DataEncoder(height_width)\n",
    "\n",
    "print('anchor_boxes size: {}'.format(data_encoder.anchor_boxes.size()))"
   ]
  },
  {
   "cell_type": "markdown",
   "metadata": {},
   "source": [
    "**Let's compare anchor boxes size to detector network output size:**\n",
    "\n",
    "<div>\n",
    "    <table>\n",
    "        <tr><td><h3>Image input size</h3></td> <td><h3>Anchor boxes size</h3></td> <td><h3>Detector Network output size</h3></td> </tr>\n",
    "        <tr><td><h3>(256, 256)</h3></td> <td><h3>[12276, 4]</h3></td> <td><h3>[batch_size, 12276, 4]</h3></td> </tr>\n",
    "        <tr><td><h3>(300, 300)</h3></td> <td><h3>[17451, 4]</h3></td> <td><h3>[batch_size, 17451, 4]</h3></td> </tr>\n",
    "    </table>\n",
    "</div>\n",
    "\n",
    "Basically, we want to encode our location target, such that the size location target becomes equal to the size of anchor boxes.\n"
   ]
  },
  {
   "cell_type": "code",
   "execution_count": null,
   "metadata": {},
   "outputs": [],
   "source": []
  }
 ],
 "metadata": {
  "kernelspec": {
   "display_name": "Python 3",
   "language": "python",
   "name": "python3"
  },
  "language_info": {
   "codemirror_mode": {
    "name": "ipython",
    "version": 3
   },
   "file_extension": ".py",
   "mimetype": "text/x-python",
   "name": "python",
   "nbconvert_exporter": "python",
   "pygments_lexer": "ipython3",
   "version": "3.7.4"
  }
 },
 "nbformat": 4,
 "nbformat_minor": 2
}
